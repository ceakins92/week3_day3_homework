{
 "cells": [
  {
   "cell_type": "markdown",
   "metadata": {},
   "source": [
    "# APIs\n"
   ]
  },
  {
   "cell_type": "markdown",
   "metadata": {},
   "source": [
    "## Tasks Today:\n",
    "1) <b>Requests and the pokemon API </b> <br>\n",
    " "
   ]
  },
  {
   "cell_type": "markdown",
   "metadata": {},
   "source": [
    "# working with APis"
   ]
  },
  {
   "cell_type": "markdown",
   "metadata": {},
   "source": [
    "<p> What exactly is an API? <br> <br>\n",
    "API is the acronym for Application Programming Interface, which is a software intermediary that allows two applications to talk to each other. Each time you use an app like Facebook, send an instant message, or check the weather on your phone, you're using an API. </p>"
   ]
  },
  {
   "cell_type": "markdown",
   "metadata": {},
   "source": [
    "### The Poke API  allows you to retreive a pokemon's information from PokeAPI https://pokeapi.co/\n",
    "\n"
   ]
  },
  {
   "cell_type": "code",
   "execution_count": 1,
   "metadata": {},
   "outputs": [
    {
     "ename": "KeyboardInterrupt",
     "evalue": "Interrupted by user",
     "output_type": "error",
     "traceback": [
      "\u001b[1;31m---------------------------------------------------------------------------\u001b[0m",
      "\u001b[1;31mKeyboardInterrupt\u001b[0m                         Traceback (most recent call last)",
      "Cell \u001b[1;32mIn[1], line 9\u001b[0m\n\u001b[0;32m      5\u001b[0m api_endpoint \u001b[38;5;241m=\u001b[39m \u001b[38;5;124m'\u001b[39m\u001b[38;5;124mhttps://pokeapi.co/api/v2/pokemon/\u001b[39m\u001b[38;5;124m'\u001b[39m\n\u001b[0;32m      7\u001b[0m \u001b[38;5;66;03m# requests.get(api_endpoint+'psyduck')\u001b[39;00m\n\u001b[1;32m----> 9\u001b[0m pokemon \u001b[38;5;241m=\u001b[39m \u001b[38;5;28;43minput\u001b[39;49m\u001b[43m(\u001b[49m\u001b[38;5;124;43m'\u001b[39;49m\u001b[38;5;124;43mWhich Pokemon are you looking for?\u001b[39;49m\u001b[38;5;130;43;01m\\n\u001b[39;49;00m\u001b[38;5;124;43m'\u001b[39;49m\u001b[43m)\u001b[49m\n\u001b[0;32m     10\u001b[0m response \u001b[38;5;241m=\u001b[39m requests\u001b[38;5;241m.\u001b[39mget(\u001b[38;5;124mf\u001b[39m\u001b[38;5;124m'\u001b[39m\u001b[38;5;132;01m{\u001b[39;00mapi_endpoint\u001b[38;5;132;01m}\u001b[39;00m\u001b[38;5;132;01m{\u001b[39;00mpokemon\u001b[38;5;132;01m}\u001b[39;00m\u001b[38;5;124m'\u001b[39m)\n\u001b[0;32m     11\u001b[0m \u001b[38;5;66;03m# Verify status code\u001b[39;00m\n",
      "File \u001b[1;32m~\\anaconda3\\lib\\site-packages\\ipykernel\\kernelbase.py:1175\u001b[0m, in \u001b[0;36mKernel.raw_input\u001b[1;34m(self, prompt)\u001b[0m\n\u001b[0;32m   1171\u001b[0m \u001b[38;5;28;01mif\u001b[39;00m \u001b[38;5;129;01mnot\u001b[39;00m \u001b[38;5;28mself\u001b[39m\u001b[38;5;241m.\u001b[39m_allow_stdin:\n\u001b[0;32m   1172\u001b[0m     \u001b[38;5;28;01mraise\u001b[39;00m StdinNotImplementedError(\n\u001b[0;32m   1173\u001b[0m         \u001b[38;5;124m\"\u001b[39m\u001b[38;5;124mraw_input was called, but this frontend does not support input requests.\u001b[39m\u001b[38;5;124m\"\u001b[39m\n\u001b[0;32m   1174\u001b[0m     )\n\u001b[1;32m-> 1175\u001b[0m \u001b[38;5;28;01mreturn\u001b[39;00m \u001b[38;5;28;43mself\u001b[39;49m\u001b[38;5;241;43m.\u001b[39;49m\u001b[43m_input_request\u001b[49m\u001b[43m(\u001b[49m\n\u001b[0;32m   1176\u001b[0m \u001b[43m    \u001b[49m\u001b[38;5;28;43mstr\u001b[39;49m\u001b[43m(\u001b[49m\u001b[43mprompt\u001b[49m\u001b[43m)\u001b[49m\u001b[43m,\u001b[49m\n\u001b[0;32m   1177\u001b[0m \u001b[43m    \u001b[49m\u001b[38;5;28;43mself\u001b[39;49m\u001b[38;5;241;43m.\u001b[39;49m\u001b[43m_parent_ident\u001b[49m\u001b[43m[\u001b[49m\u001b[38;5;124;43m\"\u001b[39;49m\u001b[38;5;124;43mshell\u001b[39;49m\u001b[38;5;124;43m\"\u001b[39;49m\u001b[43m]\u001b[49m\u001b[43m,\u001b[49m\n\u001b[0;32m   1178\u001b[0m \u001b[43m    \u001b[49m\u001b[38;5;28;43mself\u001b[39;49m\u001b[38;5;241;43m.\u001b[39;49m\u001b[43mget_parent\u001b[49m\u001b[43m(\u001b[49m\u001b[38;5;124;43m\"\u001b[39;49m\u001b[38;5;124;43mshell\u001b[39;49m\u001b[38;5;124;43m\"\u001b[39;49m\u001b[43m)\u001b[49m\u001b[43m,\u001b[49m\n\u001b[0;32m   1179\u001b[0m \u001b[43m    \u001b[49m\u001b[43mpassword\u001b[49m\u001b[38;5;241;43m=\u001b[39;49m\u001b[38;5;28;43;01mFalse\u001b[39;49;00m\u001b[43m,\u001b[49m\n\u001b[0;32m   1180\u001b[0m \u001b[43m\u001b[49m\u001b[43m)\u001b[49m\n",
      "File \u001b[1;32m~\\anaconda3\\lib\\site-packages\\ipykernel\\kernelbase.py:1217\u001b[0m, in \u001b[0;36mKernel._input_request\u001b[1;34m(self, prompt, ident, parent, password)\u001b[0m\n\u001b[0;32m   1214\u001b[0m             \u001b[38;5;28;01mbreak\u001b[39;00m\n\u001b[0;32m   1215\u001b[0m \u001b[38;5;28;01mexcept\u001b[39;00m \u001b[38;5;167;01mKeyboardInterrupt\u001b[39;00m:\n\u001b[0;32m   1216\u001b[0m     \u001b[38;5;66;03m# re-raise KeyboardInterrupt, to truncate traceback\u001b[39;00m\n\u001b[1;32m-> 1217\u001b[0m     \u001b[38;5;28;01mraise\u001b[39;00m \u001b[38;5;167;01mKeyboardInterrupt\u001b[39;00m(\u001b[38;5;124m\"\u001b[39m\u001b[38;5;124mInterrupted by user\u001b[39m\u001b[38;5;124m\"\u001b[39m) \u001b[38;5;28;01mfrom\u001b[39;00m \u001b[38;5;28mNone\u001b[39m\n\u001b[0;32m   1218\u001b[0m \u001b[38;5;28;01mexcept\u001b[39;00m \u001b[38;5;167;01mException\u001b[39;00m:\n\u001b[0;32m   1219\u001b[0m     \u001b[38;5;28mself\u001b[39m\u001b[38;5;241m.\u001b[39mlog\u001b[38;5;241m.\u001b[39mwarning(\u001b[38;5;124m\"\u001b[39m\u001b[38;5;124mInvalid Message:\u001b[39m\u001b[38;5;124m\"\u001b[39m, exc_info\u001b[38;5;241m=\u001b[39m\u001b[38;5;28;01mTrue\u001b[39;00m)\n",
      "\u001b[1;31mKeyboardInterrupt\u001b[0m: Interrupted by user"
     ]
    }
   ],
   "source": [
    "# making an API call\n",
    "import requests\n",
    "\n",
    "\n",
    "api_endpoint = 'https://pokeapi.co/api/v2/pokemon/'\n",
    "\n",
    "# requests.get(api_endpoint+'psyduck')\n",
    "\n",
    "pokemon = input('Which Pokemon are you looking for?\\n')\n",
    "response = requests.get(f'{api_endpoint}{pokemon}')\n",
    "# Verify status code\n",
    "response.status_code\n",
    "if response.status_code == 200:\n",
    "    data = response.json()\n",
    "    print(data)\n",
    "else:\n",
    "    print(f'Error, Status Code {response.status_code}')\n"
   ]
  },
  {
   "cell_type": "markdown",
   "metadata": {},
   "source": [
    "### Display a Pokemon's name, weight, abilities, and types"
   ]
  },
  {
   "cell_type": "code",
   "execution_count": 24,
   "metadata": {},
   "outputs": [],
   "source": [
    "# get the name\n",
    "my_name = data['forms'][0]['name']"
   ]
  },
  {
   "cell_type": "code",
   "execution_count": 48,
   "metadata": {},
   "outputs": [],
   "source": [
    "# get types\n",
    "#my_types = data['types']\n",
    "\n",
    "type = data['types']\n",
    "my_type = [type_dict['type']['name'] for type_dict in types]"
   ]
  },
  {
   "cell_type": "code",
   "execution_count": 26,
   "metadata": {},
   "outputs": [],
   "source": [
    "# get weight\n",
    "my_weight = data['weight']"
   ]
  },
  {
   "cell_type": "code",
   "execution_count": 19,
   "metadata": {},
   "outputs": [
    {
     "data": {
      "text/plain": [
       "{'name': 'chlorophyll', 'url': 'https://pokeapi.co/api/v2/ability/34/'}"
      ]
     },
     "execution_count": 19,
     "metadata": {},
     "output_type": "execute_result"
    }
   ],
   "source": [
    "# get abilities\n",
    "data['abilities'][1]['ability']"
   ]
  },
  {
   "cell_type": "code",
   "execution_count": 23,
   "metadata": {},
   "outputs": [
    {
     "name": "stdout",
     "output_type": "stream",
     "text": [
      "['overgrow', 'chlorophyll']\n"
     ]
    }
   ],
   "source": [
    "abilities = data['abilities']\n",
    "my_abilities = [ability_dict['ability']['name'] for ability_dict in abilities]\n",
    "print(my_abilities)"
   ]
  },
  {
   "cell_type": "code",
   "execution_count": 42,
   "metadata": {},
   "outputs": [
    {
     "name": "stdout",
     "output_type": "stream",
     "text": [
      "{'Name': 'bulbasaur', 'Type': ['grass', 'poison'], 'Weight': 69, 'Abilities': ['overgrow', 'chlorophyll']}\n"
     ]
    }
   ],
   "source": [
    "# Create a structure for a single pokemon\n",
    "my_pokemon = {\n",
    "            'Name' : my_name, \n",
    "            'Type' : my_type, \n",
    "            'Weight' : my_weight, \n",
    "            'Abilities' : my_abilities\n",
    "             }\n",
    "print(my_pokemon)"
   ]
  },
  {
   "cell_type": "code",
   "execution_count": null,
   "metadata": {},
   "outputs": [],
   "source": []
  },
  {
   "cell_type": "markdown",
   "metadata": {},
   "source": [
    "#### Create a function to Pull in your own Pokemon's data "
   ]
  },
  {
   "cell_type": "code",
   "execution_count": 8,
   "metadata": {},
   "outputs": [
    {
     "name": "stdout",
     "output_type": "stream",
     "text": [
      "Success!\n",
      "{'Name': 'charizard', 'Type': ['fire', 'flying'], 'Weight': 905, 'Abilities': ['blaze', 'solar-power']}\n"
     ]
    }
   ],
   "source": [
    "# access api\n",
    "# check status code\n",
    "# access dict keys : abilities, types, name, weight\n",
    "# store values in local dict\n",
    "import requests\n",
    "api_endpoint = 'https://pokeapi.co/api/v2/pokemon/'\n",
    "\n",
    "def poke_api_call(pokemon):\n",
    "    \n",
    "    pokemon_dict = {}\n",
    "    response = requests.get(f'https://pokeapi.co/api/v2/pokemon/{pokemon}')\n",
    "    if response.status_code == 200:\n",
    "        print('Success!')\n",
    "        data = response.json()\n",
    "        my_name = data['forms'][0]['name']\n",
    "        types = data['types']\n",
    "        my_types = [type_dict['type']['name'] for type_dict in types]\n",
    "        my_weight = data['weight']\n",
    "        data['abilities'][1]['ability']\n",
    "        abilities = data['abilities']\n",
    "        my_abilities = [ability_dict['ability']['name'] for ability_dict in abilities]\n",
    "        pokemon_dict = {\n",
    "            'Name' : my_name, \n",
    "            'Type' : my_types, \n",
    "            'Weight' : my_weight, \n",
    "            'Abilities' : my_abilities\n",
    "             }\n",
    "    else:\n",
    "        print(f'Error: Invalid Choice - {response.status_code}')\n",
    "\n",
    "    return pokemon_dict\n",
    "\n",
    "print(poke_api_call('charizard'))"
   ]
  },
  {
   "cell_type": "markdown",
   "metadata": {},
   "source": [
    "Choose your pokemon"
   ]
  },
  {
   "cell_type": "code",
   "execution_count": 21,
   "metadata": {},
   "outputs": [
    {
     "name": "stdout",
     "output_type": "stream",
     "text": [
      "[302, 383, 889, 29, 691, 372]\n"
     ]
    }
   ],
   "source": [
    "from random import randint\n",
    "# Random number generated for each pokemon id\n",
    "random_team = [randint(1,898) for i in range(6)]\n",
    "\n",
    "\n",
    "print(random_team)\n",
    "your_team = ['electabuzz', 'haunter','tyranitar','blaziken','marowak','dragonair']\n"
   ]
  },
  {
   "cell_type": "code",
   "execution_count": 22,
   "metadata": {},
   "outputs": [
    {
     "name": "stdout",
     "output_type": "stream",
     "text": [
      "Success!\n",
      "Success!\n"
     ]
    },
    {
     "ename": "IndexError",
     "evalue": "list index out of range",
     "output_type": "error",
     "traceback": [
      "\u001b[1;31m---------------------------------------------------------------------------\u001b[0m",
      "\u001b[1;31mIndexError\u001b[0m                                Traceback (most recent call last)",
      "Cell \u001b[1;32mIn[22], line 1\u001b[0m\n\u001b[1;32m----> 1\u001b[0m your_team_dict \u001b[38;5;241m=\u001b[39m {pokemon: poke_api_call(pokemon) \u001b[38;5;28;01mfor\u001b[39;00m pokemon \u001b[38;5;129;01min\u001b[39;00m your_team}\n\u001b[0;32m      3\u001b[0m \u001b[38;5;28mprint\u001b[39m(your_team_dict)\n",
      "Cell \u001b[1;32mIn[22], line 1\u001b[0m, in \u001b[0;36m<dictcomp>\u001b[1;34m(.0)\u001b[0m\n\u001b[1;32m----> 1\u001b[0m your_team_dict \u001b[38;5;241m=\u001b[39m {pokemon: \u001b[43mpoke_api_call\u001b[49m\u001b[43m(\u001b[49m\u001b[43mpokemon\u001b[49m\u001b[43m)\u001b[49m \u001b[38;5;28;01mfor\u001b[39;00m pokemon \u001b[38;5;129;01min\u001b[39;00m your_team}\n\u001b[0;32m      3\u001b[0m \u001b[38;5;28mprint\u001b[39m(your_team_dict)\n",
      "Cell \u001b[1;32mIn[8], line 19\u001b[0m, in \u001b[0;36mpoke_api_call\u001b[1;34m(pokemon)\u001b[0m\n\u001b[0;32m     17\u001b[0m my_types \u001b[38;5;241m=\u001b[39m [type_dict[\u001b[38;5;124m'\u001b[39m\u001b[38;5;124mtype\u001b[39m\u001b[38;5;124m'\u001b[39m][\u001b[38;5;124m'\u001b[39m\u001b[38;5;124mname\u001b[39m\u001b[38;5;124m'\u001b[39m] \u001b[38;5;28;01mfor\u001b[39;00m type_dict \u001b[38;5;129;01min\u001b[39;00m types]\n\u001b[0;32m     18\u001b[0m my_weight \u001b[38;5;241m=\u001b[39m data[\u001b[38;5;124m'\u001b[39m\u001b[38;5;124mweight\u001b[39m\u001b[38;5;124m'\u001b[39m]\n\u001b[1;32m---> 19\u001b[0m \u001b[43mdata\u001b[49m\u001b[43m[\u001b[49m\u001b[38;5;124;43m'\u001b[39;49m\u001b[38;5;124;43mabilities\u001b[39;49m\u001b[38;5;124;43m'\u001b[39;49m\u001b[43m]\u001b[49m\u001b[43m[\u001b[49m\u001b[38;5;241;43m1\u001b[39;49m\u001b[43m]\u001b[49m[\u001b[38;5;124m'\u001b[39m\u001b[38;5;124mability\u001b[39m\u001b[38;5;124m'\u001b[39m]\n\u001b[0;32m     20\u001b[0m abilities \u001b[38;5;241m=\u001b[39m data[\u001b[38;5;124m'\u001b[39m\u001b[38;5;124mabilities\u001b[39m\u001b[38;5;124m'\u001b[39m]\n\u001b[0;32m     21\u001b[0m my_abilities \u001b[38;5;241m=\u001b[39m [ability_dict[\u001b[38;5;124m'\u001b[39m\u001b[38;5;124mability\u001b[39m\u001b[38;5;124m'\u001b[39m][\u001b[38;5;124m'\u001b[39m\u001b[38;5;124mname\u001b[39m\u001b[38;5;124m'\u001b[39m] \u001b[38;5;28;01mfor\u001b[39;00m ability_dict \u001b[38;5;129;01min\u001b[39;00m abilities]\n",
      "\u001b[1;31mIndexError\u001b[0m: list index out of range"
     ]
    }
   ],
   "source": [
    "your_team_dict = {pokemon: poke_api_call(pokemon) for pokemon in your_team}\n",
    "\n",
    "print(your_team_dict)"
   ]
  },
  {
   "cell_type": "markdown",
   "metadata": {},
   "source": [
    "#### Use your function to create a dictionary of your Johto League 6  (favorite 6 pokemon)"
   ]
  },
  {
   "cell_type": "code",
   "execution_count": 19,
   "metadata": {},
   "outputs": [
    {
     "name": "stdout",
     "output_type": "stream",
     "text": [
      "Success!\n",
      "Success!\n",
      "Success!\n",
      "Success!\n",
      "Success!\n",
      "Success!\n",
      "{'stufful': {'Name': 'stufful', 'Type': ['normal', 'fighting'], 'Weight': 68, 'Abilities': ['fluffy', 'klutz', 'cute-charm']}, 'palossand': {'Name': 'palossand', 'Type': ['ghost', 'ground'], 'Weight': 2500, 'Abilities': ['water-compaction', 'sand-veil']}, 'trevenant': {'Name': 'trevenant', 'Type': ['ghost', 'grass'], 'Weight': 710, 'Abilities': ['natural-cure', 'frisk', 'harvest']}, 'hawlucha': {'Name': 'hawlucha', 'Type': ['fighting', 'flying'], 'Weight': 215, 'Abilities': ['limber', 'unburden', 'mold-breaker']}, 'beheeyem': {'Name': 'beheeyem', 'Type': ['psychic'], 'Weight': 345, 'Abilities': ['telepathy', 'synchronize', 'analytic']}, 'lilligant': {'Name': 'lilligant', 'Type': ['grass'], 'Weight': 163, 'Abilities': ['chlorophyll', 'own-tempo', 'leaf-guard']}}\n"
     ]
    }
   ],
   "source": [
    "# Place all 6 of your pokemon on the object below, each pokemon should have at least as much info as Pikachu did.\n",
    "my_six_pokemon = {}\n",
    "\n",
    "for i in random_team:\n",
    "    poke_dict = poke_api_call(i)\n",
    "    my_six_pokemon[poke_dict['Name']] = poke_dict\n",
    "    \n",
    "print(my_six_pokemon)"
   ]
  },
  {
   "cell_type": "markdown",
   "metadata": {},
   "source": [
    "## Lets create a class called 'Pokemon' and create our pokemon as instances"
   ]
  },
  {
   "cell_type": "code",
   "execution_count": 13,
   "metadata": {},
   "outputs": [],
   "source": [
    "#pokemon = {\n",
    "#    'abilities' : ['abilities'],\n",
    "#    'name' : data['name'],\n",
    "#    'types' : data['types'],\n",
    "#    'weight' : data['weight']\n",
    "#}"
   ]
  },
  {
   "cell_type": "code",
   "execution_count": 70,
   "metadata": {},
   "outputs": [],
   "source": [
    "class Pokemon():\n",
    "    \n",
    "    def __init__(self, name, nickname):\n",
    "        self.name = name\n",
    "        self.nickname = nickname\n",
    "        self.abilitities = []\n",
    "        self.types = []\n",
    "        self.weight = None\n",
    "        self.image = None\n",
    "        self.move = move_tutor {}\n",
    "        self.call_poke_api()\n",
    "        \n",
    "    def call_poke_api(self):\n",
    "        response = requests.get(f'https://pokeapi.co/api/v2/pokemon/{self.name}')\n",
    "        if response.status_code == 200:\n",
    "            print('Success!')\n",
    "            data = response.json()\n",
    "            self.name = data['name']\n",
    "            self.abilities = [ability_object['ability']['name'] for ability_object in data['abilities']]\n",
    "            self.types = [type_object['type']['name'] for type_object in data['types']]\n",
    "            self.weight = data['weight']\n",
    "            self.image = data['sprites']['versions']['generation-v']['black-white']['animated']['front_default']\n",
    "            if not self.image:\n",
    "                self.image = data['sprites']['other']['dream_world']['front_default']\n",
    "            if not self.image:\n",
    "                self.image = data['sprites']['front_default']\n",
    "        else:\n",
    "            print(f'Error status code: {response.status_code}')\n",
    "                                \n",
    "\n"
   ]
  },
  {
   "cell_type": "code",
   "execution_count": 97,
   "metadata": {},
   "outputs": [
    {
     "name": "stdout",
     "output_type": "stream",
     "text": [
      "Success!\n",
      "Success!\n",
      "misdreavus\n",
      "https://raw.githubusercontent.com/PokeAPI/sprites/master/sprites/pokemon/versions/generation-v/black-white/animated/200.gif\n"
     ]
    },
    {
     "data": {
      "image/gif": "[encoded data removed]",
      "text/plain": [
       "<IPython.core.display.Image object>"
      ]
     },
     "metadata": {},
     "output_type": "display_data"
    }
   ],
   "source": [
    "from IPython.display import Image\n",
    "new_poke = Pokemon('pikachu', 'zappy rodent')\n",
    "new_poke.call_poke_api\n",
    "another_poke = Pokemon('200', 'vine turtle')\n",
    "another_poke.name\n",
    "print(another_poke.name)\n",
    "print(another_poke.image)\n",
    "display(Image(another_poke.image))"
   ]
  },
  {
   "cell_type": "code",
   "execution_count": 72,
   "metadata": {},
   "outputs": [
    {
     "data": {
      "image/gif": "[encoded data removed]",
      "text/plain": [
       "<IPython.core.display.Image object>"
      ]
     },
     "metadata": {},
     "output_type": "display_data"
    }
   ],
   "source": [
    "from IPython.display import Image\n",
    "\n",
    "display(Image(another_poke.image))"
   ]
  },
  {
   "cell_type": "markdown",
   "metadata": {},
   "source": [
    "### Let's Catch some Pokemon"
   ]
  },
  {
   "cell_type": "code",
   "execution_count": 81,
   "metadata": {},
   "outputs": [],
   "source": [
    "dylans_pokemon = ['snorlax', 'psyduck', 'zapdos', 'hitmonlee']"
   ]
  },
  {
   "cell_type": "code",
   "execution_count": 85,
   "metadata": {},
   "outputs": [
    {
     "name": "stdout",
     "output_type": "stream",
     "text": [
      "Success!\n",
      "Success!\n",
      "Success!\n",
      "Success!\n",
      "{'snorlax': <__main__.Pokemon object at 0x000001B00CB6A9B0>, 'psyduck': <__main__.Pokemon object at 0x000001B00CAF24A0>, 'zapdos': <__main__.Pokemon object at 0x000001B00CC4FC10>, 'hitmonlee': <__main__.Pokemon object at 0x000001B00CBAF340>}\n"
     ]
    }
   ],
   "source": [
    "for pokemon in dylans_pokemon:\n",
    "    pokedex[pokemon] = Pokemon(pokemon, 'generic name')\n",
    "    \n",
    "print(pokedex)"
   ]
  },
  {
   "cell_type": "code",
   "execution_count": 84,
   "metadata": {},
   "outputs": [
    {
     "name": "stdout",
     "output_type": "stream",
     "text": [
      "Success!\n",
      "Success!\n",
      "Success!\n",
      "Success!\n"
     ]
    }
   ],
   "source": [
    "pokedex = {pokemon:Pokemon(pokemon,'nickname') for pokemon in dylans_pokemon}\n"
   ]
  },
  {
   "cell_type": "code",
   "execution_count": 88,
   "metadata": {},
   "outputs": [
    {
     "name": "stdout",
     "output_type": "stream",
     "text": [
      "Success!\n",
      "Success!\n"
     ]
    },
    {
     "data": {
      "text/plain": [
       "{'squirtle': <__main__.Pokemon at 0x1b00daad480>,\n",
       " 'mewtwo': <__main__.Pokemon at 0x1b00cb96c50>}"
      ]
     },
     "execution_count": 88,
     "metadata": {},
     "output_type": "execute_result"
    }
   ],
   "source": [
    "class Pokedex:\n",
    "    \n",
    "    def __init__(self, username):\n",
    "        self.username = username\n",
    "        self.pokemon = {}\n",
    "        \n",
    "    def add_pokemon(self, pokemon):\n",
    "        self.pokemon[pokemon] = Pokemon(pokemon, 'monster')\n",
    "        \n",
    "new_pokedex = Pokedex('chris')\n",
    "\n",
    "new_pokedex.add_pokemon('squirtle')\n",
    "new_pokedex.add_pokemon('mewtwo')\n",
    "\n",
    "new_pokedex.username\n",
    "\n",
    "new_pokedex.pokemon"
   ]
  },
  {
   "cell_type": "code",
   "execution_count": 95,
   "metadata": {},
   "outputs": [
    {
     "name": "stdout",
     "output_type": "stream",
     "text": [
      "chris's pokemon\n",
      "squirtle\n",
      "mewtwo\n"
     ]
    }
   ],
   "source": [
    "def print_user_pokemon(pokedex):\n",
    "    print(f'{pokedex.username}\\'s pokemon')\n",
    "    poke_dict = pokedex.pokemon\n",
    "    for poke in poke_dict:\n",
    "        print(pokedex.pokemon[poke].name)\n",
    "        \n",
    "print_user_pokemon(new_pokedex)"
   ]
  },
  {
   "cell_type": "markdown",
   "metadata": {},
   "source": [
    "## Exercise 1:"
   ]
  },
  {
   "cell_type": "markdown",
   "metadata": {},
   "source": [
    "### Create a Method prints an image of your pokemon\n",
    "\n",
    "<p>HINT: You may need another attribute as well to store your image url within. </p>"
   ]
  },
  {
   "cell_type": "code",
   "execution_count": 10,
   "metadata": {},
   "outputs": [
    {
     "name": "stdout",
     "output_type": "stream",
     "text": [
      "Success!\n"
     ]
    },
    {
     "data": {
      "image/png": "[encoded data removed]",
      "text/plain": [
       "<IPython.core.display.Image object>"
      ]
     },
     "metadata": {
      "image/png": {
       "width": 300
      }
     },
     "output_type": "display_data"
    },
    {
     "data": {
      "text/plain": [
       "'Bulbasaur has been spotted! Catch them!!'"
      ]
     },
     "execution_count": 10,
     "metadata": {},
     "output_type": "execute_result"
    }
   ],
   "source": [
    "# Display an image in Jupyter notebook\n",
    "# display(Image( 'https://i.redd.it/45n4mhusa8l41.jpg', width = 300))\n",
    "\n",
    "#-----IMPORT REQUESTS / SET API ENDPOINT---\n",
    "import requests\n",
    "api_endpoint = 'https://pokeapi.co/api/v2/pokemon/'\n",
    "\n",
    "#-----IMPORT IPYTHON IMAGE-----------------\n",
    "from IPython.display import Image\n",
    "from IPython.display import display\n",
    "\n",
    "\n",
    "def view_image(pokemon):\n",
    "    response = requests.get(f'https://pokeapi.co/api/v2/pokemon/{pokemon}')\n",
    "    response = requests.get(f'{api_endpoint}{pokemon}')\n",
    "    found_pokemon = {}       \n",
    "    if response.status_code == 200:\n",
    "        print('Success!')\n",
    "        api_data = response.json()\n",
    "        my_name = api_data['name']\n",
    "        my_image = api_data['sprites']['front_default'] \n",
    "        if not my_image:\n",
    "            my_image = None\n",
    "            print(\"No image available\")\n",
    "        display(Image(f'{my_image}', width = 300))\n",
    "        return(f'{my_name.title()} has been spotted! Catch them!!')\n",
    "    else:\n",
    "        print(f'Sorry! Error status code: {response.status_code}.\\nPlease try again!')      \n",
    "\n",
    "\n",
    "\n",
    "view_image(1)\n"
   ]
  },
  {
   "cell_type": "code",
   "execution_count": null,
   "metadata": {},
   "outputs": [],
   "source": []
  },
  {
   "cell_type": "code",
   "execution_count": 4,
   "metadata": {},
   "outputs": [],
   "source": [
    "# recreate your pokemon class here\n",
    "\n",
    "#-----IMPORT REQUESTS / API ------------------\n",
    "import requests\n",
    "from IPython.display import Image\n",
    "from IPython.display import display\n",
    "api_endpoint = 'https://pokeapi.co/api/v2/pokemon/'\n",
    "\n",
    "#-----MY CLASS-----------------------------\n",
    "class gettem_pokemon():   \n",
    "    \n",
    "    def __init__(self, pokemon):\n",
    "            self.pokemon = pokemon\n",
    "            #self.name = name\n",
    "            self.poke_id = None\n",
    "            #self.nickname = nickname\n",
    "            self.abilitities = []\n",
    "            self.types = []\n",
    "            self.weight = None\n",
    "            self.image = None\n",
    "            #self.move = move_tutor {}\n",
    "            self.getsome_poke_api()  # DOUBLE CHECK\n",
    "\n",
    "#-----API REQUEST / DICT CREATION-------------\n",
    "    def getsome_poke_api(self):\n",
    "        response = requests.get(f'https://pokeapi.co/api/v2/pokemon/{self.pokemon}')\n",
    "        response = requests.get(f'{api_endpoint}{self.pokemon}')\n",
    "        fount_poke = {}\n",
    "        \n",
    "#-----CHECK STATUS / START----------------------        \n",
    "        if response.status_code == 200:\n",
    "            print('Success!')\n",
    "\n",
    "#-----ATTRIBUTES---------------------------            \n",
    "            \n",
    "            api_data = response.json()\n",
    "            self.pokemon = api_data['name']\n",
    "            self.poke_id = api_data['id']\n",
    "            self.abilities = [ability_object['ability']['name'] for ability_object in api_data['abilities']]\n",
    "            self.types = [type_object['type']['name'] for type_object in api_data['types']]\n",
    "            self.weight = api_data['weight']\n",
    "            self.image = api_data['sprites']['front_default']\n",
    "            if not self.image:\n",
    "                self.image = None\n",
    "            self.species_url = api_data['species']['url']\n",
    "            found_poke = {\n",
    "            'Name' : self.pokemon, \n",
    "            'Type' : self.types, \n",
    "            'Weight' : self.weight, \n",
    "            'Abilities' : self.abilities\n",
    "             }\n",
    "            \n",
    "#-----IMAGE CALL / RETURN OF POKEMON STATS---\n",
    "            display(Image(f'{self.image}', width = 300))\n",
    "            print(f'{self.pokemon.title()} has been found!\\nType: {self.types}\\nAbilities: {self.abilities}\\nWeight: {self.weight}')\n",
    "\n",
    "#-----CHECK STATUS / END---------------------\n",
    "        else:\n",
    "                print(f'Sorry! Error status code: {response.status_code}')\n",
    "\n",
    "    def print_one(self):\n",
    "        display(Image(f'{self.image}', width = 300))\n",
    "        print(f'{self.pokemon.title()} has been spotted!\\nType: {self.types}\\nAbilities: {self.abilities}\\nWeight: {self.weight}')\n",
    "\n",
    "#-----EVOLUTION HANDLERS---------------------        \n",
    "    def evolve_pokemon(self, evolution_chain):\n",
    "        #evolution_chain = self.get_evolution_chain()\n",
    "        if not evolution_chain['evolves_to']:\n",
    "            print(f'This is the final form of your Pokemon.')\n",
    "            return\n",
    "        current_pokemon_in_chain = evolution_chain['species']['name']\n",
    "        next_pokemon_in_chain = evolution_chain['evolves_to'][0]['species']['name']\n",
    "        if evolution_chain.name == self.pokemon:\n",
    "            self.pokemon = next_pokemon_in_chain\n",
    "            self.getsome_poke_api()\n",
    "            #print(next_pokemon_in_chain)\n",
    "            return\n",
    "        else:\n",
    "            return self.evolve_pokemon(evolution_chain['evolves_to'][0])\n",
    "            \n",
    "    def get_evolution_chain(self):\n",
    "        response = response.get(self.species_url)\n",
    "        if response.status_code == 200:\n",
    "            api_data = response.json()\n",
    "        evolution_chain_url = api_data['evolution_chain']['url']\n",
    "        evolution_chain = response.get(evolution_chain_url)\n",
    "        if evolution_chain.status_code == 200:\n",
    "            return evolution_chain.json()['chain']\n",
    "    \n",
    "\n",
    "#-----USER CLASS-----------------------------\n",
    "class pokedex:\n",
    "    \n",
    "    def __init__(self, username):\n",
    "        self.username = username\n",
    "        self.pokemon = {}\n",
    "        \n",
    "    # ADD POKEMON\n",
    "    def add_pokemon(self, pokemon):\n",
    "        self.pokemon[pokemon] = gettem_pokemon(pokemon)\n",
    "\n",
    "    # PRINT COLLECTION    \n",
    "    def collection(self):\n",
    "        print(f\"{self.username}\\'s Pokemon: {', '.join(self.pokemon.keys()).title()}\")\n",
    "\n",
    "  \n"
   ]
  },
  {
   "cell_type": "code",
   "execution_count": null,
   "metadata": {},
   "outputs": [],
   "source": []
  },
  {
   "cell_type": "code",
   "execution_count": 21,
   "metadata": {},
   "outputs": [
    {
     "name": "stdout",
     "output_type": "stream",
     "text": [
      "Success!\n"
     ]
    },
    {
     "data": {
      "image/png": "[encoded data removed]",
      "text/plain": [
       "<IPython.core.display.Image object>"
      ]
     },
     "metadata": {
      "image/png": {
       "width": 300
      }
     },
     "output_type": "display_data"
    },
    {
     "name": "stdout",
     "output_type": "stream",
     "text": [
      "Charizard has been found!\n",
      "Type: ['fire', 'flying']\n",
      "Abilities: ['blaze', 'solar-power']\n",
      "Weight: 905\n",
      "Success!\n"
     ]
    },
    {
     "data": {
      "image/png": "[encoded data removed]",
      "text/plain": [
       "<IPython.core.display.Image object>"
      ]
     },
     "metadata": {
      "image/png": {
       "width": 300
      }
     },
     "output_type": "display_data"
    },
    {
     "name": "stdout",
     "output_type": "stream",
     "text": [
      "Squirtle has been found!\n",
      "Type: ['water']\n",
      "Abilities: ['torrent', 'rain-dish']\n",
      "Weight: 90\n",
      "Success!\n"
     ]
    },
    {
     "data": {
      "image/png": "[encoded data removed]",
      "text/plain": [
       "<IPython.core.display.Image object>"
      ]
     },
     "metadata": {
      "image/png": {
       "width": 300
      }
     },
     "output_type": "display_data"
    },
    {
     "name": "stdout",
     "output_type": "stream",
     "text": [
      "Charmander has been found!\n",
      "Type: ['fire']\n",
      "Abilities: ['blaze', 'solar-power']\n",
      "Weight: 85\n",
      "Success!\n"
     ]
    },
    {
     "data": {
      "image/png": "[encoded data removed]",
      "text/plain": [
       "<IPython.core.display.Image object>"
      ]
     },
     "metadata": {
      "image/png": {
       "width": 300
      }
     },
     "output_type": "display_data"
    },
    {
     "name": "stdout",
     "output_type": "stream",
     "text": [
      "Mewtwo has been found!\n",
      "Type: ['psychic']\n",
      "Abilities: ['pressure', 'unnerve']\n",
      "Weight: 1220\n",
      "Success!\n"
     ]
    },
    {
     "data": {
      "image/png": "[encoded data removed]",
      "text/plain": [
       "<IPython.core.display.Image object>"
      ]
     },
     "metadata": {
      "image/png": {
       "width": 300
      }
     },
     "output_type": "display_data"
    },
    {
     "name": "stdout",
     "output_type": "stream",
     "text": [
      "Togepi has been found!\n",
      "Type: ['fairy']\n",
      "Abilities: ['hustle', 'serene-grace', 'super-luck']\n",
      "Weight: 15\n",
      "Success!\n"
     ]
    },
    {
     "data": {
      "image/png": "[encoded data removed]",
      "text/plain": [
       "<IPython.core.display.Image object>"
      ]
     },
     "metadata": {
      "image/png": {
       "width": 300
      }
     },
     "output_type": "display_data"
    },
    {
     "name": "stdout",
     "output_type": "stream",
     "text": [
      "Delibird has been found!\n",
      "Type: ['ice', 'flying']\n",
      "Abilities: ['vital-spirit', 'hustle', 'insomnia']\n",
      "Weight: 160\n",
      "Yvette's Pokemon: Charizard, Squirtle, Charmander, Mewtwo, Togepi, Delibird\n"
     ]
    }
   ],
   "source": [
    "# Calling our new method\n",
    "\n",
    "#----CREATES NEW COLLECTION VIA 'pokedex---------\n",
    "yvette_pokedex = pokedex('Yvette')\n",
    "yvette_collection = ['charizard', 'squirtle', 'charmander', 'mewtwo']\n",
    "for pokemon in yvette_collection:\n",
    "    yvette_pokedex.add_pokemon(pokemon)\n",
    "\n",
    "#----ADDS USERS REQUESTED POKEMON TO USER'S 'pokedex{}'--\n",
    "yvette_pokedex.add_pokemon('togepi')\n",
    "yvette_pokedex.add_pokemon('delibird')\n",
    "\n",
    "#----RETURNS USERNAME AND THEIR COLLECTION----------------\n",
    "yvette_pokedex.collection()\n"
   ]
  },
  {
   "cell_type": "markdown",
   "metadata": {},
   "source": [
    "## Exercise 2:"
   ]
  },
  {
   "cell_type": "markdown",
   "metadata": {},
   "source": [
    "### Create a Method that evolves your Pokemon\n",
    "If your pokemon can't evolve any further print a message that says \"\\<name of pokemon> can't evolve.\""
   ]
  },
  {
   "cell_type": "code",
   "execution_count": 18,
   "metadata": {},
   "outputs": [
    {
     "name": "stdout",
     "output_type": "stream",
     "text": [
      "Hello! Would you like to catch some Pokemon? y/n/cancel\n",
      "y\n",
      "What is your name?\n",
      "Chris\n",
      "Welcome Chris!\n",
      "\n",
      "Which Pokemon would you like to find? Type \"cancel\" to quit\n",
      "mewtwo\n",
      "Sorry! Error status code: 404\n"
     ]
    },
    {
     "ename": "TypeError",
     "evalue": "unhashable type: 'set'",
     "output_type": "error",
     "traceback": [
      "\u001b[1;31m---------------------------------------------------------------------------\u001b[0m",
      "\u001b[1;31mTypeError\u001b[0m                                 Traceback (most recent call last)",
      "Cell \u001b[1;32mIn[18], line 37\u001b[0m\n\u001b[0;32m     21\u001b[0m                     new_pokedex\u001b[38;5;241m.\u001b[39madd_pokemon({menu_select})\n\u001b[0;32m     23\u001b[0m \u001b[38;5;66;03m#_____________________________________________________________________________________________            \u001b[39;00m\n\u001b[0;32m     24\u001b[0m             \n\u001b[0;32m     25\u001b[0m \u001b[38;5;66;03m#chris_pokedex = pokedex('Chris')\u001b[39;00m\n\u001b[1;32m   (...)\u001b[0m\n\u001b[0;32m     34\u001b[0m \u001b[38;5;66;03m#----RETURNS USERNAME AND THEIR COLLECTION----------------\u001b[39;00m\n\u001b[0;32m     35\u001b[0m \u001b[38;5;66;03m#chris_pokedex.collection()\u001b[39;00m\n\u001b[1;32m---> 37\u001b[0m \u001b[43mdriver\u001b[49m\u001b[43m(\u001b[49m\u001b[43m)\u001b[49m\n",
      "Cell \u001b[1;32mIn[18], line 21\u001b[0m, in \u001b[0;36mdriver\u001b[1;34m()\u001b[0m\n\u001b[0;32m     19\u001b[0m     playing \u001b[38;5;241m=\u001b[39m \u001b[38;5;28;01mFalse\u001b[39;00m\n\u001b[0;32m     20\u001b[0m \u001b[38;5;28;01melse\u001b[39;00m:\n\u001b[1;32m---> 21\u001b[0m     \u001b[43mnew_pokedex\u001b[49m\u001b[38;5;241;43m.\u001b[39;49m\u001b[43madd_pokemon\u001b[49m\u001b[43m(\u001b[49m\u001b[43m{\u001b[49m\u001b[43mmenu_select\u001b[49m\u001b[43m}\u001b[49m\u001b[43m)\u001b[49m\n",
      "Cell \u001b[1;32mIn[4], line 100\u001b[0m, in \u001b[0;36mpokedex.add_pokemon\u001b[1;34m(self, pokemon)\u001b[0m\n\u001b[0;32m     99\u001b[0m \u001b[38;5;28;01mdef\u001b[39;00m \u001b[38;5;21madd_pokemon\u001b[39m(\u001b[38;5;28mself\u001b[39m, pokemon):\n\u001b[1;32m--> 100\u001b[0m     \u001b[38;5;28mself\u001b[39m\u001b[38;5;241m.\u001b[39mpokemon[pokemon] \u001b[38;5;241m=\u001b[39m gettem_pokemon(pokemon)\n",
      "\u001b[1;31mTypeError\u001b[0m: unhashable type: 'set'"
     ]
    }
   ],
   "source": []
  },
  {
   "cell_type": "markdown",
   "metadata": {},
   "source": [
    "Now let's evolve a few"
   ]
  },
  {
   "cell_type": "code",
   "execution_count": null,
   "metadata": {
    "scrolled": true
   },
   "outputs": [],
   "source": [
    "# Search the Pokemon list for the specified Pokemon.\n",
    "            # Retrieve the Pokemon species URL from the Pokemon URL.\n",
    "            # Check if the Pokemon has an evolution chain.\n",
    "                # Retrieve the evolution chain URL.\n",
    "                # Traverse the evolution chain to find the current Pokemon.\n",
    "                # Check if the Pokemon can evolve further.\n",
    "                    # Get the name of the evolved Pokemon.\n",
    "                    # Remove the current Pokemon from the Pokedex.\n",
    "                    # Add the evolved Pokemon to the Pokedex.\n",
    "                    # Print a message indicating the evolution.\n",
    "                    # If the Pokemon cannot evolve further, print a message.\n",
    "                # Return from the method once the current Pokemon is processed.\n",
    "                # If the Pokemon has no evolution chain, print a message.\n",
    "                # Return from the method once the current Pokemon is processed.\n",
    "    # If the specified Pokemon is not found in the Pokedex, print a message."
   ]
  },
  {
   "cell_type": "code",
   "execution_count": 3,
   "metadata": {},
   "outputs": [],
   "source": [
    "import requests\n",
    "\n",
    "#-----MY CLASS-----------------------------\n",
    "class gettem_pokemon():   \n",
    "    \n",
    "    def __init__(self, pokemon):\n",
    "            self.pokemon = pokemon\n",
    "            #self.name = name\n",
    "            self.poke_id = None\n",
    "            #self.nickname = nickname\n",
    "            self.abilitities = []\n",
    "            self.types = []\n",
    "            self.weight = None\n",
    "            self.image = None\n",
    "            #self.move = move_tutor {}\n",
    "            self.getsome_poke_api()  # DOUBLE CHECK\n",
    "\n",
    "#-----API REQUEST / DICT CREATION-------------\n",
    "    def getsome_poke_api(self):\n",
    "        response = requests.get(f'https://pokeapi.co/api/v2/pokemon/{self.pokemon}')\n",
    "        response = requests.get(f'{api_endpoint}{self.pokemon}')\n",
    "        found_poke = {}\n",
    "        \n",
    "#-----CHECK STATUS / START----------------------        \n",
    "        if response.status_code == 200:\n",
    "            print('Success!')\n",
    "\n",
    "#-----ATTRIBUTES---------------------------            \n",
    "            \n",
    "            api_data = response.json()\n",
    "            self.pokemon = api_data['name']\n",
    "            self.poke_id = api_data['id']\n",
    "            self.abilities = [ability_object['ability']['name'] for ability_object in api_data['abilities']]\n",
    "            self.types = [type_object['type']['name'] for type_object in api_data['types']]\n",
    "            self.weight = api_data['weight']\n",
    "            self.species_url = api_data['species']['url']\n",
    "            self.image = api_data['sprites']['front_default']\n",
    "            #print(self.image)\n",
    "            if not self.image:\n",
    "                self.image = None\n",
    "            found_poke = {\n",
    "            'Name' : self.pokemon, \n",
    "            'Type' : self.types, \n",
    "            'Weight' : self.weight, \n",
    "            'Abilities' : self.abilities\n",
    "             }\n",
    "            \n",
    "#-----IMAGE CALL / RETURN OF POKEMON STATS---\n",
    "            display(Image(f'{self.image}', width = 300))\n",
    "            print(f'{self.pokemon.title()} has been found!\\nType: {self.types}\\nAbilities: {self.abilities}\\nWeight: {self.weight}')\n",
    "\n",
    "#-----CHECK STATUS / END---------------------\n",
    "        else:\n",
    "                print(f'Sorry! Error status code: {response.status_code}')\n",
    "            \n",
    "    def evolve_pokemon(self, evolution_chain):\n",
    "        if not evolution_chain['evolves_to']:\n",
    "            print(f'This is the final form of your Pokemon.')\n",
    "            return\n",
    "        current_pokemon_in_chain = evolution_chain['species']['name']\n",
    "        next_pokemon_in_chain = evolution_chain['evolves_to'][0]['species']['name']\n",
    "        if evolution_chain.name == self.pokemon:\n",
    "            self.pokemon = next_pokemon_in_chain\n",
    "            self.getsome_poke_api()\n",
    "            #print(next_pokemon_in_chain)\n",
    "            return\n",
    "        else:\n",
    "            return self.evolve_pokemon(evolution_chain['evolves_to'][0])\n",
    "            \n",
    "    \n",
    "    def get_evolution_chain(self):\n",
    "        response = response.get(self.species_url)\n",
    "        if response.status_code == 200:\n",
    "            api_data = response.json()\n",
    "        evolution_chain_url = api_data['evolution_chain']['url']\n",
    "        evolution_chain = response.get(evolution_chain_url)\n",
    "        if evolution_chain.status_code == 200:\n",
    "            return evolution_chain.json()['chain']\n",
    "    "
   ]
  },
  {
   "cell_type": "code",
   "execution_count": null,
   "metadata": {},
   "outputs": [],
   "source": []
  },
  {
   "cell_type": "markdown",
   "metadata": {},
   "source": [
    "#  Final Exercise: <br> <br>Create a Move_Tutor Class that will allow the Pokemon Class to inherit a move list.\n",
    "<br>\n",
    "<p>for an added bonus you can make sure that if a pokemon has 4 moves the user can choose one of them to replace with a new move. </p>"
   ]
  },
  {
   "cell_type": "code",
   "execution_count": 19,
   "metadata": {},
   "outputs": [],
   "source": [
    "class Move_Tutor:\n",
    "    def __init__(self):\n",
    "        self.move_list = []"
   ]
  },
  {
   "cell_type": "code",
   "execution_count": null,
   "metadata": {},
   "outputs": [],
   "source": []
  },
  {
   "cell_type": "code",
   "execution_count": 81,
   "metadata": {},
   "outputs": [
    {
     "name": "stdout",
     "output_type": "stream",
     "text": [
      "What move would you like to teach pikachu? spark\n",
      "pikachu learned spark!\n"
     ]
    }
   ],
   "source": [
    "pikachu.teach_move()\n"
   ]
  },
  {
   "cell_type": "code",
   "execution_count": 79,
   "metadata": {},
   "outputs": [
    {
     "name": "stdout",
     "output_type": "stream",
     "text": [
      "pikachu's moves'\n",
      "thunder\n",
      "surf\n",
      "earthquake\n"
     ]
    }
   ],
   "source": [
    "pikachu.show_moves()"
   ]
  }
 ],
 "metadata": {
  "kernelspec": {
   "display_name": "Python 3 (ipykernel)",
   "language": "python",
   "name": "python3"
  },
  "language_info": {
   "codemirror_mode": {
    "name": "ipython",
    "version": 3
   },
   "file_extension": ".py",
   "mimetype": "text/x-python",
   "name": "python",
   "nbconvert_exporter": "python",
   "pygments_lexer": "ipython3",
   "version": "3.10.9"
  }
 },
 "nbformat": 4,
 "nbformat_minor": 4
}
